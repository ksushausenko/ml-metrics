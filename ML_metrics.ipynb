{
  "cells": [
    {
      "cell_type": "code",
      "execution_count": 91,
      "metadata": {
        "id": "9EhV7kVGuWW4"
      },
      "outputs": [],
      "source": [
        "import numpy as np\n",
        "import pandas as pd\n",
        "import json\n",
        "import matplotlib\n",
        "from sklearn.metrics import roc_auc_score\n",
        "from sklearn.metrics import r2_score\n",
        "from sklearn.datasets import make_regression\n",
        "from sklearn.datasets import make_classification\n",
        "from sklearn.metrics import mean_squared_error\n",
        "from sklearn.metrics import mean_absolute_error\n",
        "from sklearn.metrics import mean_squared_log_error\n",
        "from sklearn.metrics import mean_absolute_percentage_error\n",
        "from sklearn.datasets import make_blobs\n",
        "from sklearn.metrics import calinski_harabasz_score\n",
        "from sklearn.metrics import davies_bouldin_score\n",
        "from sklearn.metrics import silhouette_score"
      ]
    },
    {
      "cell_type": "markdown",
      "source": [
        "•\t «Описательная статистика» - процесс расчета метрик датасета. Метрики датасета состоят из следующих параметров: общее количество значений, количество уникальных значений, количество пропущенных  значений, минимально значение, максимальное значение, среднее значение, медианное значение, стандартное отклонение, гистограмма распределения значений по каналам (10 каналов) .\n",
        "\n"
      ],
      "metadata": {
        "id": "9D53X-cTtvr8"
      }
    },
    {
      "cell_type": "code",
      "source": [
        "class NpEncoder(json.JSONEncoder):\n",
        "    def default(self, obj):\n",
        "        if isinstance(obj, np.integer):\n",
        "            return int(obj)\n",
        "        if isinstance(obj, np.floating):\n",
        "            return float(obj)\n",
        "        if isinstance(obj, np.ndarray):\n",
        "            return obj.tolist()\n",
        "        return super(NpEncoder, self).default(obj)"
      ],
      "metadata": {
        "id": "GGc6SO59O8ya"
      },
      "execution_count": 2,
      "outputs": []
    },
    {
      "cell_type": "code",
      "source": [
        "class Description():\n",
        "\n",
        "  def __init__(self,data):\n",
        "\n",
        "    self.data = data\n",
        "\n",
        "  def get_json(self):\n",
        "    statictics={}\n",
        "    for col in self.data.columns:\n",
        "      current_col={}\n",
        "      current_col ['count'] = self.data[col].count()\n",
        "      current_col ['unique'] = self.data[col].nunique()\n",
        "      current_col ['NaN count'] = self.data[col].shape[0] - self.data[col].count()\n",
        "      if (self.data[col].dtype != 'object') and ( self.data[col].dtype != 'category' ):\n",
        "        current_col ['min'] = self.data[col].min()\n",
        "        current_col ['max'] = self.data[col].max()\n",
        "        current_col ['mean'] = self.data[col].mean().round(3)\n",
        "        current_col ['std'] = self.data[col].std().round(3)\n",
        "        current_col ['median'] = self.data[col].median()\n",
        "        counts, bins = np.histogram(self.data[col], bins=10)\n",
        "        current_col ['hist'] = {'values of the histogram bins' : counts, 'edges of the bins' :bins}\n",
        "      else:\n",
        "        current_col['top'] = self.data[col].value_counts().index[0]\n",
        "        current_col['freq'] = self.data[col].value_counts()[0]\n",
        "      statictics[col] = current_col\n",
        "\n",
        "    with open('descriptive_statistics.json', 'w') as f:\n",
        "      json.dump(statictics, f, cls=NpEncoder)\n",
        "    return statictics"
      ],
      "metadata": {
        "id": "2EjGS-ZEzp5d"
      },
      "execution_count": 3,
      "outputs": []
    },
    {
      "cell_type": "code",
      "source": [
        "import pandas as pd\n",
        "from sklearn.datasets import load_iris\n",
        "\n",
        "iris = load_iris()\n",
        "X = iris.data  \n",
        "y = iris.target  \n",
        "\n",
        "df = pd.DataFrame(X, columns=iris.feature_names)  \n",
        "df['target'] = y "
      ],
      "metadata": {
        "id": "SBb2YbT2sdI8"
      },
      "execution_count": 102,
      "outputs": []
    },
    {
      "cell_type": "code",
      "source": [
        "df.head(3)"
      ],
      "metadata": {
        "colab": {
          "base_uri": "https://localhost:8080/",
          "height": 143
        },
        "id": "EFpxbcGgJO0C",
        "outputId": "f0360f43-48a0-44c4-a31a-665b0b0fa948"
      },
      "execution_count": 105,
      "outputs": [
        {
          "output_type": "execute_result",
          "data": {
            "text/plain": [
              "   sepal length (cm)  sepal width (cm)  petal length (cm)  petal width (cm)  \\\n",
              "0                5.1               3.5                1.4               0.2   \n",
              "1                4.9               3.0                1.4               0.2   \n",
              "2                4.7               3.2                1.3               0.2   \n",
              "\n",
              "   target  \n",
              "0       0  \n",
              "1       0  \n",
              "2       0  "
            ],
            "text/html": [
              "\n",
              "  <div id=\"df-fae2d494-4c23-4b4d-aabe-90c8f21374ee\">\n",
              "    <div class=\"colab-df-container\">\n",
              "      <div>\n",
              "<style scoped>\n",
              "    .dataframe tbody tr th:only-of-type {\n",
              "        vertical-align: middle;\n",
              "    }\n",
              "\n",
              "    .dataframe tbody tr th {\n",
              "        vertical-align: top;\n",
              "    }\n",
              "\n",
              "    .dataframe thead th {\n",
              "        text-align: right;\n",
              "    }\n",
              "</style>\n",
              "<table border=\"1\" class=\"dataframe\">\n",
              "  <thead>\n",
              "    <tr style=\"text-align: right;\">\n",
              "      <th></th>\n",
              "      <th>sepal length (cm)</th>\n",
              "      <th>sepal width (cm)</th>\n",
              "      <th>petal length (cm)</th>\n",
              "      <th>petal width (cm)</th>\n",
              "      <th>target</th>\n",
              "    </tr>\n",
              "  </thead>\n",
              "  <tbody>\n",
              "    <tr>\n",
              "      <th>0</th>\n",
              "      <td>5.1</td>\n",
              "      <td>3.5</td>\n",
              "      <td>1.4</td>\n",
              "      <td>0.2</td>\n",
              "      <td>0</td>\n",
              "    </tr>\n",
              "    <tr>\n",
              "      <th>1</th>\n",
              "      <td>4.9</td>\n",
              "      <td>3.0</td>\n",
              "      <td>1.4</td>\n",
              "      <td>0.2</td>\n",
              "      <td>0</td>\n",
              "    </tr>\n",
              "    <tr>\n",
              "      <th>2</th>\n",
              "      <td>4.7</td>\n",
              "      <td>3.2</td>\n",
              "      <td>1.3</td>\n",
              "      <td>0.2</td>\n",
              "      <td>0</td>\n",
              "    </tr>\n",
              "  </tbody>\n",
              "</table>\n",
              "</div>\n",
              "      <button class=\"colab-df-convert\" onclick=\"convertToInteractive('df-fae2d494-4c23-4b4d-aabe-90c8f21374ee')\"\n",
              "              title=\"Convert this dataframe to an interactive table.\"\n",
              "              style=\"display:none;\">\n",
              "        \n",
              "  <svg xmlns=\"http://www.w3.org/2000/svg\" height=\"24px\"viewBox=\"0 0 24 24\"\n",
              "       width=\"24px\">\n",
              "    <path d=\"M0 0h24v24H0V0z\" fill=\"none\"/>\n",
              "    <path d=\"M18.56 5.44l.94 2.06.94-2.06 2.06-.94-2.06-.94-.94-2.06-.94 2.06-2.06.94zm-11 1L8.5 8.5l.94-2.06 2.06-.94-2.06-.94L8.5 2.5l-.94 2.06-2.06.94zm10 10l.94 2.06.94-2.06 2.06-.94-2.06-.94-.94-2.06-.94 2.06-2.06.94z\"/><path d=\"M17.41 7.96l-1.37-1.37c-.4-.4-.92-.59-1.43-.59-.52 0-1.04.2-1.43.59L10.3 9.45l-7.72 7.72c-.78.78-.78 2.05 0 2.83L4 21.41c.39.39.9.59 1.41.59.51 0 1.02-.2 1.41-.59l7.78-7.78 2.81-2.81c.8-.78.8-2.07 0-2.86zM5.41 20L4 18.59l7.72-7.72 1.47 1.35L5.41 20z\"/>\n",
              "  </svg>\n",
              "      </button>\n",
              "      \n",
              "  <style>\n",
              "    .colab-df-container {\n",
              "      display:flex;\n",
              "      flex-wrap:wrap;\n",
              "      gap: 12px;\n",
              "    }\n",
              "\n",
              "    .colab-df-convert {\n",
              "      background-color: #E8F0FE;\n",
              "      border: none;\n",
              "      border-radius: 50%;\n",
              "      cursor: pointer;\n",
              "      display: none;\n",
              "      fill: #1967D2;\n",
              "      height: 32px;\n",
              "      padding: 0 0 0 0;\n",
              "      width: 32px;\n",
              "    }\n",
              "\n",
              "    .colab-df-convert:hover {\n",
              "      background-color: #E2EBFA;\n",
              "      box-shadow: 0px 1px 2px rgba(60, 64, 67, 0.3), 0px 1px 3px 1px rgba(60, 64, 67, 0.15);\n",
              "      fill: #174EA6;\n",
              "    }\n",
              "\n",
              "    [theme=dark] .colab-df-convert {\n",
              "      background-color: #3B4455;\n",
              "      fill: #D2E3FC;\n",
              "    }\n",
              "\n",
              "    [theme=dark] .colab-df-convert:hover {\n",
              "      background-color: #434B5C;\n",
              "      box-shadow: 0px 1px 3px 1px rgba(0, 0, 0, 0.15);\n",
              "      filter: drop-shadow(0px 1px 2px rgba(0, 0, 0, 0.3));\n",
              "      fill: #FFFFFF;\n",
              "    }\n",
              "  </style>\n",
              "\n",
              "      <script>\n",
              "        const buttonEl =\n",
              "          document.querySelector('#df-fae2d494-4c23-4b4d-aabe-90c8f21374ee button.colab-df-convert');\n",
              "        buttonEl.style.display =\n",
              "          google.colab.kernel.accessAllowed ? 'block' : 'none';\n",
              "\n",
              "        async function convertToInteractive(key) {\n",
              "          const element = document.querySelector('#df-fae2d494-4c23-4b4d-aabe-90c8f21374ee');\n",
              "          const dataTable =\n",
              "            await google.colab.kernel.invokeFunction('convertToInteractive',\n",
              "                                                     [key], {});\n",
              "          if (!dataTable) return;\n",
              "\n",
              "          const docLinkHtml = 'Like what you see? Visit the ' +\n",
              "            '<a target=\"_blank\" href=https://colab.research.google.com/notebooks/data_table.ipynb>data table notebook</a>'\n",
              "            + ' to learn more about interactive tables.';\n",
              "          element.innerHTML = '';\n",
              "          dataTable['output_type'] = 'display_data';\n",
              "          await google.colab.output.renderOutput(dataTable, element);\n",
              "          const docLink = document.createElement('div');\n",
              "          docLink.innerHTML = docLinkHtml;\n",
              "          element.appendChild(docLink);\n",
              "        }\n",
              "      </script>\n",
              "    </div>\n",
              "  </div>\n",
              "  "
            ]
          },
          "metadata": {},
          "execution_count": 105
        }
      ]
    },
    {
      "cell_type": "code",
      "source": [
        "Description(df).get_json()"
      ],
      "metadata": {
        "id": "59e71QruMZ5d",
        "colab": {
          "base_uri": "https://localhost:8080/"
        },
        "outputId": "296a525f-4126-4bbe-bcd5-d3cd74c5f3ec"
      },
      "execution_count": 106,
      "outputs": [
        {
          "output_type": "execute_result",
          "data": {
            "text/plain": [
              "{'sepal length (cm)': {'count': 150,\n",
              "  'unique': 35,\n",
              "  'NaN count': 0,\n",
              "  'min': 4.3,\n",
              "  'max': 7.9,\n",
              "  'mean': 5.843,\n",
              "  'std': 0.828,\n",
              "  'median': 5.8,\n",
              "  'hist': {'values of the histogram bins': array([ 9, 23, 14, 27, 16, 26, 18,  6,  5,  6]),\n",
              "   'edges of the bins': array([4.3 , 4.66, 5.02, 5.38, 5.74, 6.1 , 6.46, 6.82, 7.18, 7.54, 7.9 ])}},\n",
              " 'sepal width (cm)': {'count': 150,\n",
              "  'unique': 23,\n",
              "  'NaN count': 0,\n",
              "  'min': 2.0,\n",
              "  'max': 4.4,\n",
              "  'mean': 3.057,\n",
              "  'std': 0.436,\n",
              "  'median': 3.0,\n",
              "  'hist': {'values of the histogram bins': array([ 4,  7, 22, 24, 37, 31, 10, 11,  2,  2]),\n",
              "   'edges of the bins': array([2.  , 2.24, 2.48, 2.72, 2.96, 3.2 , 3.44, 3.68, 3.92, 4.16, 4.4 ])}},\n",
              " 'petal length (cm)': {'count': 150,\n",
              "  'unique': 43,\n",
              "  'NaN count': 0,\n",
              "  'min': 1.0,\n",
              "  'max': 6.9,\n",
              "  'mean': 3.758,\n",
              "  'std': 1.765,\n",
              "  'median': 4.35,\n",
              "  'hist': {'values of the histogram bins': array([37, 13,  0,  3,  8, 26, 29, 18, 11,  5]),\n",
              "   'edges of the bins': array([1.  , 1.59, 2.18, 2.77, 3.36, 3.95, 4.54, 5.13, 5.72, 6.31, 6.9 ])}},\n",
              " 'petal width (cm)': {'count': 150,\n",
              "  'unique': 22,\n",
              "  'NaN count': 0,\n",
              "  'min': 0.1,\n",
              "  'max': 2.5,\n",
              "  'mean': 1.199,\n",
              "  'std': 0.762,\n",
              "  'median': 1.3,\n",
              "  'hist': {'values of the histogram bins': array([41,  8,  1,  7,  8, 33,  6, 23,  9, 14]),\n",
              "   'edges of the bins': array([0.1 , 0.34, 0.58, 0.82, 1.06, 1.3 , 1.54, 1.78, 2.02, 2.26, 2.5 ])}},\n",
              " 'target': {'count': 150,\n",
              "  'unique': 3,\n",
              "  'NaN count': 0,\n",
              "  'min': 0,\n",
              "  'max': 2,\n",
              "  'mean': 1.0,\n",
              "  'std': 0.819,\n",
              "  'median': 1.0,\n",
              "  'hist': {'values of the histogram bins': array([50,  0,  0,  0,  0, 50,  0,  0,  0, 50]),\n",
              "   'edges of the bins': array([0. , 0.2, 0.4, 0.6, 0.8, 1. , 1.2, 1.4, 1.6, 1.8, 2. ])}}}"
            ]
          },
          "metadata": {},
          "execution_count": 106
        }
      ]
    },
    {
      "cell_type": "markdown",
      "source": [
        "### **Metrcis** - класс для расчета основных метрик классических задач машинного обучения: регрессия, классификация, кластеризация"
      ],
      "metadata": {
        "id": "jZlx2ZknFhPR"
      }
    },
    {
      "cell_type": "code",
      "execution_count": 107,
      "metadata": {
        "id": "9Uo8QlC5uWW8"
      },
      "outputs": [],
      "source": [
        "class Metric:  \n",
        "    \n",
        "    def __init__(self):\n",
        "        self.classif = self.Classification()\n",
        "        self.regr=self.Regression()\n",
        "        self.clust=self.Clustering()        \n",
        "    \n",
        "    class Classification():\n",
        "\n",
        "\n",
        "      def __init__(self, y_true, y_pred, accuracy = False, precision = False, recall = False, F1 = False, error_rate = False, FPR = False, auc = True):\n",
        "\n",
        "        self.y_true = y_true\n",
        "        self.y_pred = y_pred    \n",
        "        self.accuracy = accuracy\n",
        "        self.precision = precision \n",
        "        self.recall = recall\n",
        "        self.F1 = F1\n",
        "        self.error_rate = error_rate\n",
        "        self.FPR = FPR\n",
        "        self.auc = auc\n",
        "\n",
        "\n",
        "      def get_metrics(self):\n",
        "\n",
        "        metrics={}\n",
        "\n",
        "        if self.accuracy == True :\n",
        "\n",
        "          if len(np.unique(self.y_true)) == 2:\n",
        "\n",
        "            acc = self.get_accuracy (self.y_true,self.y_pred)\n",
        "\n",
        "          else:\n",
        "\n",
        "            num_classes = len(np.unique(self.y_true))\n",
        "            acc = 0\n",
        "\n",
        "            for class_ in list(np.unique(self.y_true)):  \n",
        "\n",
        "              temp_true = [1 if p == class_ else 0 for p in self.y_true]\n",
        "              temp_pred = [1 if p == class_ else 0 for p in self.y_pred]\n",
        "              temp_accuracy = self.get_accuracy(temp_true,temp_pred)\n",
        "              acc += temp_accuracy\n",
        "\n",
        "            acc /= num_classes\n",
        "\n",
        "          metrics ['accuracy'] = np.round(acc, 4)\n",
        "\n",
        "        \n",
        "        if self.precision == True :\n",
        "\n",
        "          if len(np.unique(self.y_true)) == 2:\n",
        "\n",
        "            prec = self.get_precision (self.y_true,self.y_pred)\n",
        "\n",
        "          else:\n",
        "\n",
        "            num_classes = len(np.unique(self.y_true))\n",
        "            prec = 0\n",
        "\n",
        "            for class_ in list(np.unique(self.y_true)):  \n",
        "\n",
        "              temp_true = [1 if p == class_ else 0 for p in self.y_true]\n",
        "              temp_pred = [1 if p == class_ else 0 for p in self.y_pred]\n",
        "              temp_precision = self.get_precision(temp_true,temp_pred)\n",
        "              prec += temp_precision\n",
        "\n",
        "            prec /= num_classes\n",
        "\n",
        "          metrics ['precision'] = np.round(prec, 4)\n",
        "\n",
        "        \n",
        "        if self.recall == True :\n",
        "\n",
        "          if len(np.unique(self.y_true)) == 2:\n",
        "\n",
        "            rec = self.get_recall (self.y_true,self.y_pred)\n",
        "\n",
        "          else:\n",
        "\n",
        "            num_classes = len(np.unique(self.y_true))\n",
        "            rec = 0\n",
        "\n",
        "            for class_ in list(np.unique(self.y_true)):  \n",
        "\n",
        "              temp_true = [1 if p == class_ else 0 for p in self.y_true]\n",
        "              temp_pred = [1 if p == class_ else 0 for p in self.y_pred]\n",
        "              temp_recall = self.get_recall(temp_true,temp_pred)\n",
        "              rec += temp_recall\n",
        "\n",
        "            rec /= num_classes\n",
        "          metrics ['recall'] = np.round(rec, 4)\n",
        "\n",
        "        \n",
        "        if self.F1 == True :\n",
        "\n",
        "          if len(np.unique(self.y_true)) == 2:\n",
        "\n",
        "            f1 = self.get_f1 (self.y_true,self.y_pred)\n",
        "\n",
        "          else:\n",
        "\n",
        "            num_classes = len(np.unique(self.y_true))\n",
        "            f1 = 0\n",
        "\n",
        "            for class_ in list(np.unique(self.y_true)):  \n",
        "\n",
        "              temp_true = [1 if p == class_ else 0 for p in self.y_true]\n",
        "              temp_pred = [1 if p == class_ else 0 for p in self.y_pred]\n",
        "              temp_f1 = self.get_f1(temp_true,temp_pred)\n",
        "              f1 += temp_f1\n",
        "\n",
        "            f1 /= num_classes\n",
        "\n",
        "          metrics ['F1'] = np.round(f1, 4)\n",
        "\n",
        "        if self.error_rate == True :\n",
        "\n",
        "          if len(np.unique(self.y_true)) == 2:\n",
        "\n",
        "            er = self.get_error_rate (self.y_true,self.y_pred)\n",
        "\n",
        "          else:\n",
        "\n",
        "            num_classes = len(np.unique(self.y_true))\n",
        "            er = 0\n",
        "\n",
        "            for class_ in list(np.unique(self.y_true)):  \n",
        "\n",
        "              temp_true = [1 if p == class_ else 0 for p in self.y_true]\n",
        "              temp_pred = [1 if p == class_ else 0 for p in self.y_pred]\n",
        "              temp_er = self.get_error_rate(temp_true,temp_pred)\n",
        "              er += temp_er\n",
        "\n",
        "            er /= num_classes\n",
        "\n",
        "          metrics ['error rate'] = np.round(er, 4)\n",
        "\n",
        "        if self.FPR == True :\n",
        "\n",
        "          if len(np.unique(self.y_true)) == 2:\n",
        "\n",
        "            fpr = self.get_fpr (self.y_true,self.y_pred)\n",
        "\n",
        "          else:\n",
        "\n",
        "            num_classes = len(np.unique(self.y_true))\n",
        "            fpr = 0\n",
        "\n",
        "            for class_ in list(np.unique(self.y_true)):  \n",
        "\n",
        "              temp_true = [1 if p == class_ else 0 for p in self.y_true]\n",
        "              temp_pred = [1 if p == class_ else 0 for p in self.y_pred]\n",
        "              temp_fpr = self.get_fpr(temp_true,temp_pred)\n",
        "              fpr += temp_fpr\n",
        "\n",
        "            fpr /= num_classes\n",
        "\n",
        "          metrics ['False Positive Rate'] = np.round(fpr, 4)\n",
        "         \n",
        "        if self.auc == True :\n",
        "\n",
        "          if len(np.unique(self.y_true)) == 2:\n",
        "\n",
        "            auc = self.get_auc (self.y_true,self.y_pred)\n",
        "\n",
        "          else:\n",
        "\n",
        "            num_classes = len(np.unique(self.y_true))\n",
        "            auc = {}\n",
        "\n",
        "            for class_ in list(np.unique(self.y_true)):  \n",
        "\n",
        "              temp_true = [1 if p == class_ else 0 for p in self.y_true]\n",
        "              temp_pred = [1 if p == class_ else 0 for p in self.y_pred]\n",
        "              temp_auc = self.get_auc(temp_true,temp_pred)\n",
        "              auc[str(class_)] = temp_auc\n",
        "              rounded_auc_dict = {k: np.round(v, 4) for k, v in auc.items()}\n",
        "\n",
        "          metrics ['auc'] = rounded_auc_dict         \n",
        "\n",
        "        metrics = json.dumps(metrics)\n",
        "        with open('save_classification_metrics.json', 'w') as f:\n",
        "          json.dump(metrics,f)\n",
        "\n",
        "        return metrics\n",
        "         \n",
        "\n",
        "      def get_accuracy(self,true, pred):\n",
        "        tp = self.true_positive(true, pred)\n",
        "        tn = self.true_negative(true, pred)\n",
        "        fp = self.false_positive(true, pred)\n",
        "        fn = self.false_negative(true, pred)\n",
        "        return (tp + tn)/(tp + tn + fp + fn)   \n",
        "      \n",
        "      def get_precision(self, true, pred):\n",
        "        tp = self.true_positive(true, pred)\n",
        "        fp = self.false_positive(true, pred)\n",
        "        return tp / (tp + fp + 1e-6)\n",
        "\n",
        "      def get_recall(self, true, pred):\n",
        "        tp = self.true_positive(true, pred)\n",
        "        fn = self.false_negative(true, pred)\n",
        "        return tp / (tp + fn + 1e-6)\n",
        "\n",
        "      def get_f1(self, true, pred):\n",
        "        recall = self.get_recall(true, pred)\n",
        "        precision = self.get_precision(true, pred)\n",
        "        return (2 * recall * precision) / (recall + precision + 1e-6)\n",
        "\n",
        "      def get_error_rate(self,true, pred):\n",
        "        tp = self.true_positive(true, pred)\n",
        "        tn = self.true_negative(true, pred)\n",
        "        fp = self.false_positive(true, pred)\n",
        "        fn = self.false_negative(true, pred)\n",
        "        return (fp + fn)/(tp + tn + fp + fn) \n",
        "\n",
        "      def get_fpr(self, true, pred):\n",
        "        tn = self.true_negative(true, pred)\n",
        "        fp = self.false_positive(true, pred)\n",
        "        return fp / (tn + fp + 1e-6)\n",
        "\n",
        "      def get_auc(self, true, pred):\n",
        "        return roc_auc_score(true, pred)\n",
        "\n",
        "      \n",
        "      def true_positive(self,true,pred): \n",
        "        tp = 0    \n",
        "        for yt, yp in zip(true,pred):        \n",
        "          if yt == 1 and yp == 1:\n",
        "            tp += 1    \n",
        "        return tp\n",
        "\n",
        "      def true_negative(self, true, pred): \n",
        "        tn = 0    \n",
        "        for yt, yp in zip(true, pred):        \n",
        "          if yt == 0 and yp == 0:\n",
        "            tn += 1    \n",
        "        return tn\n",
        "\n",
        "      def false_positive(self, true, pred): \n",
        "        fp = 0    \n",
        "        for yt, yp in zip(true, pred):        \n",
        "          if yt == 0 and yp == 1:\n",
        "            fp += 1    \n",
        "        return fp\n",
        "\n",
        "      def false_negative(self, true, pred): \n",
        "        fn = 0    \n",
        "        for yt, yp in zip(true,pred):        \n",
        "          if yt == 1 and yp == 0:\n",
        "            fn += 1    \n",
        "        return fn    \n",
        "\n",
        "    class Regression():\n",
        "\n",
        "\n",
        "      def __init__(self, y_true, y_pred, R2 = False, MSE = False, MAE = False, MAPE = False, SMAPE = False, WAPE = False):\n",
        "\n",
        "        self.y_true = y_true\n",
        "        self.y_pred = y_pred    \n",
        "        self.R2 = R2\n",
        "        self.MSE = MSE \n",
        "        self.MAE = MAE\n",
        "        self.MAPE = MAPE\n",
        "        self.SMAPE = SMAPE\n",
        "        self.WAPE = WAPE  \n",
        "\n",
        "      def get_metrics(self):\n",
        "\n",
        "        metrics = {}\n",
        "\n",
        "        if self.R2 == True :  \n",
        "\n",
        "          r2 = r2_score(self.y_true, self.y_pred) \n",
        "          metrics['R2'] = np.round(r2, 4)\n",
        "\n",
        "        if self.MSE == True :\n",
        "\n",
        "          mse = mean_squared_error(self.y_true, self.y_pred)\n",
        "          metrics['MSE'] = np.round(mse, 4)\n",
        "\n",
        "        if self.MAE == True:\n",
        "\n",
        "          mae = mean_absolute_error(self.y_true, self.y_pred)\n",
        "          metrics['MAE'] = np.round(mae, 4)\n",
        "\n",
        "        if self.MAPE == True:\n",
        "\n",
        "          mape = mean_absolute_percentage_error(self.y_true, self.y_pred)\n",
        "          metrics['MAPE'] = np.round(mape, 4)\n",
        "\n",
        "        if self.WAPE == True:\n",
        "\n",
        "          wape = np.abs(self.y_true - self.y_pred).sum() / np.abs(self.y_true).sum()\n",
        "          metrics['WAPE'] = np.round(wape, 4)\n",
        "\n",
        "        if self.SMAPE == True:\n",
        "\n",
        "          smape = ((np.abs(self.y_true - self.y_pred)) / (np.abs(self.y_true) + np.abs(self.y_pred)) / 2).sum() / (len(y_pred))\n",
        "          metrics['SMAPE'] = np.round(smape, 4)\n",
        "\n",
        "        metrics = json.dumps(metrics)\n",
        "        with open('save_regression_metrics.json', 'w') as f:\n",
        "          json.dump(metrics,f)\n",
        "\n",
        "        return metrics\n",
        "\n",
        "    class Clustering():\n",
        "\n",
        "\n",
        "      def __init__(self, X, labels, calinski_harabasz = False, davies_bouldin = False, silhouette = False):\n",
        "\n",
        "        self.X = X\n",
        "        self.labels = labels    \n",
        "        self.calinski_harabasz = calinski_harabasz\n",
        "        self.davies_bouldin = davies_bouldin \n",
        "        self.silhouette = silhouette\n",
        "\n",
        "      def get_metrics(self):\n",
        "        metrics = {}\n",
        "\n",
        "        if self.calinski_harabasz == True :  \n",
        "\n",
        "          ch = calinski_harabasz_score(self.X, self.labels) \n",
        "          metrics['Calinski-Harabasz score'] = np.round(ch, 4)\n",
        "\n",
        "        if self.davies_bouldin == True:\n",
        "\n",
        "          db = davies_bouldin_score(self.X, self.labels)\n",
        "          metrics['Davies-Bouldin score'] = np.round(db, 4)  \n",
        "\n",
        "        if self.silhouette == True:\n",
        "\n",
        "          s = silhouette_score(self.X, self.labels)\n",
        "          metrics['Silhouette Coefficient'] = np.round(s, 4)   \n",
        "\n",
        "        metrics = json.dumps(metrics)\n",
        "        with open('save_clustering_metrics.json', 'w') as f:\n",
        "          json.dump(metrics,f)\n",
        "\n",
        "        return metrics             "
      ]
    },
    {
      "cell_type": "markdown",
      "source": [
        "#### тест классификации"
      ],
      "metadata": {
        "id": "XW0uAeBCJ89H"
      }
    },
    {
      "cell_type": "code",
      "execution_count": 80,
      "metadata": {
        "id": "BcdgN9fvuWXB"
      },
      "outputs": [],
      "source": [
        "test=np.array([1,1,2,1,0])\n",
        "pred=np.array([0,1,2,1,2])"
      ]
    },
    {
      "cell_type": "code",
      "source": [
        "m=Metric.Classification(test,pred, accuracy=True, precision=True, recall = True, F1 = True, error_rate = True, FPR = True, auc = True)"
      ],
      "metadata": {
        "id": "e8cIJcKfQwn2"
      },
      "execution_count": 109,
      "outputs": []
    },
    {
      "cell_type": "code",
      "source": [
        "m.get_metrics()"
      ],
      "metadata": {
        "colab": {
          "base_uri": "https://localhost:8080/",
          "height": 52
        },
        "id": "enT3m_DAXUkD",
        "outputId": "ec845aa8-5fed-465f-ac93-55207f526bec"
      },
      "execution_count": 120,
      "outputs": [
        {
          "output_type": "execute_result",
          "data": {
            "text/plain": [
              "'{\"accuracy\": 0.7333, \"precision\": 0.5, \"recall\": 0.5556, \"F1\": 0.4889, \"error rate\": 0.2667, \"False Positive Rate\": 0.1667, \"auc\": {\"0\": 0.375, \"1\": 0.8333, \"2\": 0.875}}'"
            ],
            "application/vnd.google.colaboratory.intrinsic+json": {
              "type": "string"
            }
          },
          "metadata": {},
          "execution_count": 120
        }
      ]
    },
    {
      "cell_type": "markdown",
      "source": [
        "#### тест регрессии"
      ],
      "metadata": {
        "id": "0XtjORJ_KEDX"
      }
    },
    {
      "cell_type": "code",
      "source": [
        "X, y_true = make_regression(n_samples = 10, n_features=2, noise=1, random_state=42)"
      ],
      "metadata": {
        "id": "HxaTKFh4IgYM"
      },
      "execution_count": 13,
      "outputs": []
    },
    {
      "cell_type": "code",
      "source": [
        "X, y_pred = make_regression(n_samples = 10, n_features=2, noise=1, random_state=42)"
      ],
      "metadata": {
        "id": "UQKUaDmEJFhs"
      },
      "execution_count": 15,
      "outputs": []
    },
    {
      "cell_type": "code",
      "source": [
        "y_pred = y_pred * 1.034"
      ],
      "metadata": {
        "id": "iBCI3k0UJSou"
      },
      "execution_count": 18,
      "outputs": []
    },
    {
      "cell_type": "code",
      "source": [
        "r = Metric.Regression(y_true,y_pred, R2 = True, MSE = True, MAE = True, MAPE = True, SMAPE = True, WAPE = True)"
      ],
      "metadata": {
        "id": "VjiNxZplJexc"
      },
      "execution_count": 83,
      "outputs": []
    },
    {
      "cell_type": "code",
      "source": [
        "r.get_metrics()"
      ],
      "metadata": {
        "colab": {
          "base_uri": "https://localhost:8080/",
          "height": 35
        },
        "id": "LtQW77N2Jwvv",
        "outputId": "69c0b68b-e183-4626-82ee-bd8f3404c789"
      },
      "execution_count": 116,
      "outputs": [
        {
          "output_type": "execute_result",
          "data": {
            "text/plain": [
              "'{\"R2\": 0.9988, \"MSE\": 11.7762, \"MAE\": 2.837, \"MAPE\": 0.034, \"WAPE\": 0.034, \"SMAPE\": 0.0084}'"
            ],
            "application/vnd.google.colaboratory.intrinsic+json": {
              "type": "string"
            }
          },
          "metadata": {},
          "execution_count": 116
        }
      ]
    },
    {
      "cell_type": "markdown",
      "source": [
        "#### тест кластеризации"
      ],
      "metadata": {
        "id": "Ws3EXxjfhltY"
      }
    },
    {
      "cell_type": "code",
      "source": [
        "X, labels = make_blobs(n_samples=3000, n_features = 3, centers=3, cluster_std=1.0, random_state=42)\n",
        "# y - метки кластеров, Х - признаки"
      ],
      "metadata": {
        "id": "0hfWJxufhsaS"
      },
      "execution_count": 94,
      "outputs": []
    },
    {
      "cell_type": "code",
      "source": [
        "c = Metric.Clustering(X, labels, calinski_harabasz = True, davies_bouldin = True, silhouette = True)"
      ],
      "metadata": {
        "id": "H7wdH8kkkmU2"
      },
      "execution_count": 95,
      "outputs": []
    },
    {
      "cell_type": "code",
      "source": [
        "c.get_metrics()"
      ],
      "metadata": {
        "colab": {
          "base_uri": "https://localhost:8080/",
          "height": 52
        },
        "id": "AGiNQGfFo0es",
        "outputId": "cd8d3f48-0e86-4821-a3bf-04d67c30dabc"
      },
      "execution_count": 96,
      "outputs": [
        {
          "output_type": "execute_result",
          "data": {
            "text/plain": [
              "'{\"Calinski-Harabasz score\": 46797.2022, \"Davies-Bouldin score\": 0.3603, \"Silhouette Coefficient\": 0.7507}'"
            ],
            "application/vnd.google.colaboratory.intrinsic+json": {
              "type": "string"
            }
          },
          "metadata": {},
          "execution_count": 96
        }
      ]
    }
  ],
  "metadata": {
    "kernelspec": {
      "display_name": "Python 3",
      "language": "python",
      "name": "python3"
    },
    "language_info": {
      "codemirror_mode": {
        "name": "ipython",
        "version": 3
      },
      "file_extension": ".py",
      "mimetype": "text/x-python",
      "name": "python",
      "nbconvert_exporter": "python",
      "pygments_lexer": "ipython3",
      "version": "3.8.3"
    },
    "colab": {
      "provenance": []
    }
  },
  "nbformat": 4,
  "nbformat_minor": 0
}